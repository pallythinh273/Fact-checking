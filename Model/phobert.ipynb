{
 "cells": [
  {
   "cell_type": "code",
   "execution_count": null,
   "metadata": {},
   "outputs": [],
   "source": [
    "import json\n",
    "\n",
    "# Đọc file JSON\n",
    "def load_data_from_json(path):\n",
    "    with open(path, 'r') as f:\n",
    "        data = json.load(f)\n",
    "\n",
    "    return data\n",
    "\n",
    "def save_data_to_json(data, path):\n",
    "    with open(path, 'w', encoding='utf-8') as fp:\n",
    "        json.dump(data, fp, ensure_ascii=False, indent=4)"
   ]
  },
  {
   "cell_type": "code",
   "execution_count": null,
   "metadata": {},
   "outputs": [],
   "source": [
    "data = load_data_from_json(\"final_data_new.json\")\n",
    "context_data = load_data_from_json(\"merged_data_file.json\")"
   ]
  },
  {
   "cell_type": "code",
   "execution_count": null,
   "metadata": {},
   "outputs": [],
   "source": [
    "# !pip install phonlp"
   ]
  },
  {
   "cell_type": "code",
   "execution_count": null,
   "metadata": {},
   "outputs": [],
   "source": [
    "import pandas as pd\n",
    "\n",
    "# Gộp dữ liệu\n",
    "for item in data:\n",
    "    context_id = item['metadata']['context_id']\n",
    "    item['context'] = context_data[context_id]['context']\n",
    "\n",
    "# Chuyển đổi thành DataFrame\n",
    "df = pd.DataFrame(data)\n",
    "# Xáo trộn dữ liệu\n",
    "df = df.sample(frac=1).reset_index(drop=True)\n",
    "df.head()"
   ]
  },
  {
   "cell_type": "code",
   "execution_count": null,
   "metadata": {},
   "outputs": [],
   "source": [
    "import numpy as np\n",
    "from sklearn.model_selection import train_test_split\n",
    "from keras.preprocessing.text import Tokenizer\n",
    "from keras.preprocessing.sequence import pad_sequences\n",
    "from keras.utils import to_categorical\n",
    "\n",
    "# Trích xuất các trường cần thiết\n",
    "claims = df['claim'].values\n",
    "contexts = df['context'].values\n",
    "labels = df['metadata'].apply(lambda x: 1 if x['label'] == 'HỖ TRỢ' else 0).values\n",
    "\n",
    "# Tokenization và padding\n",
    "tokenizer = Tokenizer(num_words=10000)\n",
    "tokenizer.fit_on_texts(np.concatenate((claims, contexts)))\n",
    "\n",
    "X_claims = pad_sequences(tokenizer.texts_to_sequences(claims), maxlen=100)\n",
    "X_contexts = pad_sequences(tokenizer.texts_to_sequences(contexts), maxlen=300)\n",
    "\n",
    "# Gộp claim và context\n",
    "X = np.concatenate((X_claims, X_contexts), axis=1)\n",
    "y = to_categorical(labels, num_classes=2)\n",
    "\n",
    "# Chia dữ liệu thành tập huấn luyện và kiểm tra\n",
    "X_train, X_test, y_train, y_test = train_test_split(X, y, test_size=0.2, random_state=42)"
   ]
  },
  {
   "cell_type": "code",
   "execution_count": null,
   "metadata": {},
   "outputs": [],
   "source": [
    "import torch\n",
    "from transformers import AutoModel, AutoTokenizer\n",
    "from torch.utils.data import DataLoader, TensorDataset\n",
    "from sklearn.model_selection import train_test_split\n",
    "import pandas as pd\n",
    "import numpy as np\n",
    "from torch import nn\n",
    "from torch.optim import AdamW\n",
    "from sklearn.metrics import accuracy_score, classification_report"
   ]
  },
  {
   "cell_type": "code",
   "execution_count": null,
   "metadata": {},
   "outputs": [],
   "source": [
    "# Giả sử df là DataFrame của bạn\n",
    "X = df[['claim', 'context']]\n",
    "y = df['metadata'].apply(lambda x: 1 if x['label'] == 'HỖ TRỢ' else 0)\n",
    "\n",
    "X_train, X_test, y_train, y_test = train_test_split(X, y, test_size=0.2, random_state=42)"
   ]
  },
  {
   "cell_type": "code",
   "execution_count": null,
   "metadata": {},
   "outputs": [],
   "source": [
    "model_name = \"vinai/phobert-base\"\n",
    "tokenizer = AutoTokenizer.from_pretrained(model_name)\n",
    "phobert = AutoModel.from_pretrained(model_name)"
   ]
  },
  {
   "cell_type": "code",
   "execution_count": null,
   "metadata": {},
   "outputs": [],
   "source": [
    "class PhoBERTClassifier(nn.Module):\n",
    "    def __init__(self, phobert):\n",
    "        super(PhoBERTClassifier, self).__init__()\n",
    "        self.phobert = phobert\n",
    "        self.dropout = nn.Dropout(0.1)\n",
    "        self.fc = nn.Linear(768, 2)  # 768 là kích thước đầu ra của PhoBERT, 2 là số lớp\n",
    "\n",
    "    def forward(self, input_ids, attention_mask):\n",
    "        outputs = self.phobert(input_ids=input_ids, attention_mask=attention_mask)\n",
    "        pooled_output = outputs[1]\n",
    "        x = self.dropout(pooled_output)\n",
    "        logits = self.fc(x)\n",
    "        return logits\n",
    "\n",
    "model = PhoBERTClassifier(phobert)"
   ]
  },
  {
   "cell_type": "code",
   "execution_count": null,
   "metadata": {},
   "outputs": [],
   "source": [
    "def prepare_data(texts, labels, tokenizer, max_length=512):\n",
    "    encodings = tokenizer(texts['claim'].tolist(), texts['context'].tolist(),\n",
    "                          truncation=True, padding='max_length', max_length=max_length, return_tensors=\"pt\")\n",
    "    dataset = TensorDataset(encodings['input_ids'], encodings['attention_mask'], torch.tensor(labels.tolist()))\n",
    "    return dataset\n",
    "\n",
    "max_length = 256  # hoặc một giá trị phù hợp với dữ liệu của bạn\n",
    "train_dataset = prepare_data(X_train, y_train, tokenizer, max_length=max_length)\n",
    "test_dataset = prepare_data(X_test, y_test, tokenizer, max_length=max_length)\n",
    "\n",
    "train_loader = DataLoader(train_dataset, batch_size=16, shuffle=True)\n",
    "test_loader = DataLoader(test_dataset, batch_size=16)"
   ]
  },
  {
   "cell_type": "code",
   "execution_count": null,
   "metadata": {},
   "outputs": [],
   "source": [
    "device = torch.device(\"cuda\" if torch.cuda.is_available() else \"cpu\")\n",
    "model.to(device)\n",
    "\n",
    "optimizer = AdamW(model.parameters(), lr=2e-5)\n",
    "criterion = nn.CrossEntropyLoss()\n",
    "\n",
    "num_epochs = 3\n",
    "\n",
    "for epoch in range(num_epochs):\n",
    "    model.train()\n",
    "    for batch in train_loader:\n",
    "      input_ids, attention_mask, labels = [b.to(device) for b in batch]\n",
    "      optimizer.zero_grad()\n",
    "      outputs = model(input_ids=input_ids, attention_mask=attention_mask)\n",
    "      loss = criterion(outputs, labels)\n",
    "      loss.backward()\n",
    "      optimizer.step()\n",
    "\n",
    "    # Đánh giá trên tập kiểm tra\n",
    "    model.eval()\n",
    "    predictions = []\n",
    "    true_labels = []\n",
    "    with torch.no_grad():\n",
    "        for batch in test_loader:\n",
    "            input_ids, attention_mask, labels = [b.to(device) for b in batch]\n",
    "            outputs = model(input_ids, attention_mask)\n",
    "            _, preds = torch.max(outputs, dim=1)\n",
    "            predictions.extend(preds.cpu().tolist())\n",
    "            true_labels.extend(labels.cpu().tolist())\n",
    "\n",
    "    accuracy = accuracy_score(true_labels, predictions)\n",
    "    print(f\"Epoch {epoch+1}/{num_epochs}, Test Accuracy: {accuracy:.4f}\")\n",
    "\n",
    "print(\"\\nClassification Report:\")\n",
    "print(classification_report(true_labels, predictions))"
   ]
  }
 ],
 "metadata": {
  "language_info": {
   "name": "python"
  }
 },
 "nbformat": 4,
 "nbformat_minor": 2
}
